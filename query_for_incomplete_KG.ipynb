{
 "cells": [
  {
   "cell_type": "code",
   "execution_count": 1,
   "metadata": {
    "collapsed": true
   },
   "outputs": [],
   "source": [
    "import os\n",
    "import json\n",
    "import re\n",
    "import urllib\n",
    "from time import sleep\n",
    "from collections import deque\n",
    "from pathlib import Path\n",
    "from pprint import pprint\n",
    "from rdflib import Graph\n",
    "\n",
    "from tqdm import tqdm"
   ]
  },
  {
   "cell_type": "code",
   "execution_count": 2,
   "metadata": {
    "collapsed": false
   },
   "outputs": [],
   "source": [
    "class Database:\n",
    "    def __init__(self, database_path):\n",
    "        self.g = Graph()\n",
    "        self.file_paths = list(Path(database_path).glob('*.ttl'))\n",
    "\n",
    "        self.load_database()\n",
    "\n",
    "    def load_database(self):\n",
    "        for file_path in tqdm(self.file_paths):\n",
    "            self.g.parse(file_path, format='turtle')\n",
    "\n",
    "    def query(self, sparql_query):\n",
    "        results = self.g.query(sparql_query)\n",
    "        json_data = json.loads(results.serialize(format='json').decode('utf-8'))\n",
    "        \n",
    "        return json_data['results']['bindings']"
   ]
  },
  {
   "cell_type": "code",
   "execution_count": 3,
   "metadata": {
    "collapsed": false,
    "pycharm": {
     "is_executing": true
    }
   },
   "outputs": [],
   "source": [
    "database_name = '200'\n",
    "dataset_path = Path.cwd() / 'DataSet'\n",
    "qa_dir_path = dataset_path / 'QA'\n",
    "\n",
    "database_path = Path.cwd() / 'DataSet' / 'PartiallyMissingData' / 'RDF' / database_name\n",
    "episodes_dir_path = dataset_path / 'Episodes' / database_name"
   ]
  },
  {
   "cell_type": "code",
   "execution_count": 4,
   "metadata": {},
   "outputs": [
    {
     "name": "stderr",
     "output_type": "stream",
     "text": [
      " 82%|████████▏ | 578/706 [12:17<02:19,  1.09s/it]"
     ]
    }
   ],
   "source": [
    "db = Database(database_path)"
   ]
  },
  {
   "cell_type": "code",
   "execution_count": null,
   "metadata": {
    "collapsed": false
   },
   "outputs": [
    {
     "name": "stdout",
     "output_type": "stream",
     "text": [
      "[{'place': {'type': 'uri', 'value': 'http://kgrc4si.home.kg/virtualhome2kg/instance/livingroom342_scene1'}, 'event': {'type': 'uri', 'value': 'http://kgrc4si.home.kg/virtualhome2kg/instance/event0_walk_with_memory_loss6_scene1'}}]\n",
      "1\n",
      "event0_walk_with_memory_loss6_scene1 livingroom342_scene1\n"
     ]
    }
   ],
   "source": [
    "def test_database():\n",
    "    sparql_query = \"\"\"\n",
    "PREFIX ex: <http://kgrc4si.home.kg/virtualhome2kg/instance/>\n",
    "PREFIX vh2kg: <http://kgrc4si.home.kg/virtualhome2kg/ontology/>\n",
    "select DISTINCT ?event ?place where {\n",
    "    ex:walk_with_memory_loss6_scene1 vh2kg:hasEvent ?event .\n",
    "    ?event vh2kg:to ?place .\n",
    "    ?place a vh2kg:Livingroom .\n",
    "}\n",
    "\"\"\"\n",
    "    results = db.query(sparql_query)\n",
    "    print(results)\n",
    "    print(len(results))\n",
    "    for value in results:\n",
    "        print(value[\"event\"][\"value\"].split('/')[-1], value[\"place\"][\"value\"].split('/')[-1])\n",
    "\n",
    "test_database()"
   ]
  },
  {
   "cell_type": "code",
   "execution_count": null,
   "metadata": {},
   "outputs": [],
   "source": []
  }
 ],
 "metadata": {
  "kernelspec": {
   "display_name": "Python 3",
   "language": "python",
   "name": "python3"
  },
  "language_info": {
   "codemirror_mode": {
    "name": "ipython",
    "version": 3
   },
   "file_extension": ".py",
   "mimetype": "text/x-python",
   "name": "python",
   "nbconvert_exporter": "python",
   "pygments_lexer": "ipython3",
   "version": "3.10.8"
  }
 },
 "nbformat": 4,
 "nbformat_minor": 0
}
